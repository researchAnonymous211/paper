{
  "metadata": {
    "kernelspec": {
      "language": "python",
      "display_name": "Python 3",
      "name": "python3"
    },
    "language_info": {
      "pygments_lexer": "ipython3",
      "nbconvert_exporter": "python",
      "version": "3.6.4",
      "file_extension": ".py",
      "codemirror_mode": {
        "name": "ipython",
        "version": 3
      },
      "name": "python",
      "mimetype": "text/x-python"
    },
    "colab": {
      "provenance": []
    }
  },
  "nbformat_minor": 0,
  "nbformat": 4,
  "cells": [
    {
      "cell_type": "code",
      "source": [
        "import numpy as np \n",
        "import pandas as pd \n",
        "import numpy as np \n",
        "import glob\n",
        "import pandas as pd \n",
        "import matplotlib.pyplot as plt\n",
        "import cv2\n",
        "import tensorflow as tf\n",
        "from PIL import Image\n",
        "from sklearn import metrics\n",
        "import os\n",
        "from tensorflow.keras.utils import to_categorical\n",
        "from tensorflow.keras.metrics import AUC\n",
        "from tensorflow.keras.layers import concatenate\n",
        "from tensorflow.keras import Model\n",
        "from tensorflow.keras.preprocessing import image\n",
        "from tensorflow.keras.models import Model, Sequential\n",
        "from tensorflow.keras.applications.vgg16 import VGG16 \n",
        "from tensorflow.keras.applications.vgg19 import VGG19 \n",
        "from tensorflow.keras.applications.resnet50 import ResNet50 \n",
        "from tensorflow.keras.applications import ResNet101\n",
        "from tensorflow.keras.applications import ResNet101V2\n",
        "from tensorflow.keras.applications import ResNet152V2\n",
        "from tensorflow.keras.applications.xception import Xception \n",
        "from tensorflow.keras.applications.mobilenet import MobileNet \n",
        "from tensorflow.keras.applications.nasnet import NASNetMobile \n",
        "from tensorflow.keras.applications.densenet import DenseNet169 \n",
        "from tensorflow.keras.applications.densenet import DenseNet121 \n",
        "from tensorflow.keras.applications.mobilenet_v2 import MobileNetV2 \n",
        "from tensorflow.keras.applications.inception_v3 import InceptionV3 \n",
        "from tensorflow.keras.applications import EfficientNetB0\n",
        "from tensorflow.keras.applications import EfficientNetB1\n",
        "from tensorflow.keras.applications import EfficientNetB2\n",
        "from tensorflow.keras.applications import EfficientNetB3\n",
        "from tensorflow.keras.applications import EfficientNetB4\n",
        "from tensorflow.keras.applications import EfficientNetB5\n",
        "from tensorflow.keras.applications import EfficientNetB6\n",
        "from tensorflow.keras.applications import EfficientNetB7\n",
        "from tensorflow.keras.applications import InceptionResNetV2\n",
        "from tensorflow.keras.layers import Input, Dense, Dropout, BatchNormalization, Flatten, Activation, GlobalAveragePooling2D,Conv2D, MaxPooling2D\n",
        "from tensorflow.keras.callbacks import EarlyStopping, ModelCheckpoint\n",
        "from tensorflow.keras.preprocessing.image import ImageDataGenerator, img_to_array, array_to_img, load_img\n",
        "from sklearn.model_selection import train_test_split\n",
        "from tensorflow.keras.utils import to_categorical\n",
        "from keras.models import Sequential, load_model\n",
        "from keras.layers import Conv2D, MaxPool2D, Dense, Flatten, Dropout"
      ],
      "metadata": {
        "execution": {
          "iopub.status.busy": "2022-07-28T13:46:51.797162Z",
          "iopub.execute_input": "2022-07-28T13:46:51.797585Z",
          "iopub.status.idle": "2022-07-28T13:46:51.813946Z",
          "shell.execute_reply.started": "2022-07-28T13:46:51.797547Z",
          "shell.execute_reply": "2022-07-28T13:46:51.81265Z"
        },
        "trusted": true,
        "id": "iqa3WcHUsdyA"
      },
      "execution_count": null,
      "outputs": []
    },
    {
      "cell_type": "code",
      "source": [
        "\n",
        "\n",
        "data = []\n",
        "labels = []\n",
        "cur_path = os.getcwd()\n",
        "\n"
      ],
      "metadata": {
        "execution": {
          "iopub.status.busy": "2022-07-28T13:46:56.231747Z",
          "iopub.execute_input": "2022-07-28T13:46:56.232119Z",
          "iopub.status.idle": "2022-07-28T13:46:56.24661Z",
          "shell.execute_reply.started": "2022-07-28T13:46:56.232088Z",
          "shell.execute_reply": "2022-07-28T13:46:56.245479Z"
        },
        "trusted": true,
        "id": "mRk53TomsdyN"
      },
      "execution_count": null,
      "outputs": []
    },
    {
      "cell_type": "code",
      "source": [
        "test_data=[]\n",
        "test_labels=[]"
      ],
      "metadata": {
        "execution": {
          "iopub.status.busy": "2022-07-28T13:47:05.787784Z",
          "iopub.execute_input": "2022-07-28T13:47:05.788172Z",
          "iopub.status.idle": "2022-07-28T13:47:05.794195Z",
          "shell.execute_reply.started": "2022-07-28T13:47:05.78814Z",
          "shell.execute_reply": "2022-07-28T13:47:05.793155Z"
        },
        "trusted": true,
        "id": "brE1T29isdyi"
      },
      "execution_count": null,
      "outputs": []
    },
    {
      "cell_type": "code",
      "source": [
        "data_dir = '../input/kvasiricapsule-labelledimages'"
      ],
      "metadata": {
        "execution": {
          "iopub.status.busy": "2022-07-28T13:47:06.740101Z",
          "iopub.execute_input": "2022-07-28T13:47:06.740958Z",
          "iopub.status.idle": "2022-07-28T13:47:06.746234Z",
          "shell.execute_reply.started": "2022-07-28T13:47:06.740906Z",
          "shell.execute_reply": "2022-07-28T13:47:06.745062Z"
        },
        "trusted": true,
        "id": "d9-izle6sdyq"
      },
      "execution_count": null,
      "outputs": []
    },
    {
      "cell_type": "code",
      "source": [
        "num_categories=len(os.listdir(data_dir))"
      ],
      "metadata": {
        "execution": {
          "iopub.status.busy": "2022-07-28T13:47:08.823911Z",
          "iopub.execute_input": "2022-07-28T13:47:08.824768Z",
          "iopub.status.idle": "2022-07-28T13:47:08.833072Z",
          "shell.execute_reply.started": "2022-07-28T13:47:08.82472Z",
          "shell.execute_reply": "2022-07-28T13:47:08.832101Z"
        },
        "trusted": true,
        "id": "0Mc3Z1Yjsdyr"
      },
      "execution_count": null,
      "outputs": []
    },
    {
      "cell_type": "code",
      "source": [
        "#split_0.csv and Split_1.csv files are the official splits.\n",
        "df_test=pd.read_csv('../input/capsulesplits/split_0.csv')\n",
        "df_test.head()"
      ],
      "metadata": {
        "execution": {
          "iopub.status.busy": "2022-07-28T13:47:10.539836Z",
          "iopub.execute_input": "2022-07-28T13:47:10.54049Z",
          "iopub.status.idle": "2022-07-28T13:47:10.568496Z",
          "shell.execute_reply.started": "2022-07-28T13:47:10.540451Z",
          "shell.execute_reply": "2022-07-28T13:47:10.56752Z"
        },
        "trusted": true,
        "id": "65sWTMWesdyt"
      },
      "execution_count": null,
      "outputs": []
    },
    {
      "cell_type": "code",
      "source": [
        "\n",
        "\n",
        "df=pd.read_csv('../input/capsulesplits/split_1.csv')\n",
        "df.head()\n",
        "\n"
      ],
      "metadata": {
        "execution": {
          "iopub.status.busy": "2022-07-28T13:47:12.467666Z",
          "iopub.execute_input": "2022-07-28T13:47:12.468038Z",
          "iopub.status.idle": "2022-07-28T13:47:12.498287Z",
          "shell.execute_reply.started": "2022-07-28T13:47:12.468005Z",
          "shell.execute_reply": "2022-07-28T13:47:12.49738Z"
        },
        "trusted": true,
        "id": "TtcjDbW9sdyv"
      },
      "execution_count": null,
      "outputs": []
    },
    {
      "cell_type": "code",
      "source": [
        "df['label'].unique()"
      ],
      "metadata": {
        "execution": {
          "iopub.status.busy": "2022-07-28T13:47:14.274747Z",
          "iopub.execute_input": "2022-07-28T13:47:14.275431Z",
          "iopub.status.idle": "2022-07-28T13:47:14.284324Z",
          "shell.execute_reply.started": "2022-07-28T13:47:14.275389Z",
          "shell.execute_reply": "2022-07-28T13:47:14.283382Z"
        },
        "trusted": true,
        "id": "P-nqxD92sdyx"
      },
      "execution_count": null,
      "outputs": []
    },
    {
      "cell_type": "code",
      "source": [
        "df_test['label'].unique()"
      ],
      "metadata": {
        "execution": {
          "iopub.status.busy": "2022-07-28T13:47:14.759471Z",
          "iopub.execute_input": "2022-07-28T13:47:14.761677Z",
          "iopub.status.idle": "2022-07-28T13:47:14.772145Z",
          "shell.execute_reply.started": "2022-07-28T13:47:14.761628Z",
          "shell.execute_reply": "2022-07-28T13:47:14.771092Z"
        },
        "trusted": true,
        "id": "C4WDS9dWsdy6"
      },
      "execution_count": null,
      "outputs": []
    },
    {
      "cell_type": "code",
      "source": [
        "for row in df.iterrows():\n",
        "    #print(row[1].label)\n",
        "    categ=row[1].label\n",
        "    imagepath=\"\"\n",
        "    if categ=='Erosion':\n",
        "        imagepath='../input/kvasiricapsule-labelledimages/erosion/Erosion'+'/'+row[1].filename\n",
        "    elif categ=='Angiectasia':\n",
        "        imagepath='../input/kvasiricapsule-labelledimages/angiectasia/Angiectasia'+'/'+row[1].filename\n",
        "    elif categ=='Pylorus':\n",
        "        imagepath='../input/kvasiricapsule-labelledimages/pylorus/Pylorus'+'/'+row[1].filename\n",
        "    elif categ=='Reduced Mucosal View':\n",
        "        imagepath='../input/kvasiricapsule-labelledimages/reduced_mucosal_view/Reduced mucosal view'+'/'+row[1].filename\n",
        "    elif categ=='Normal':\n",
        "        imagepath='../input/kvasiricapsule-labelledimages/normal_clean_mucosa/Normal clean mucosa'+'/'+row[1].filename\n",
        "    elif categ=='Ileo-cecal valve':\n",
        "        imagepath='../input/kvasiricapsule-labelledimages/ileocecal_valve/Ileocecal valve'+'/'+row[1].filename\n",
        "    elif categ=='Ulcer':\n",
        "        imagepath='../input/kvasiricapsule-labelledimages/ulcer/Ulcer'+'/'+row[1].filename\n",
        "    elif categ=='Lymphangiectasia':\n",
        "        imagepath='../input/kvasiricapsule-labelledimages/lymphangiectasia/Lymphangiectasia'+'/'+row[1].filename\n",
        "    elif categ=='Erythematous':\n",
        "        imagepath='../input/kvasiricapsule-labelledimages/erythema/Erythema'+'/'+row[1].filename\n",
        "    elif categ=='Foreign Bodies':\n",
        "        imagepath='../input/kvasiricapsule-labelledimages/foreign_body/Foreign body'+'/'+row[1].filename\n",
        "    elif categ=='Blood':\n",
        "        imagepath='../input/kvasiricapsule-labelledimages/blood_fresh/Blood - fresh'+'/'+row[1].filename\n",
        "    image = Image.open(imagepath)\n",
        "    image = image.resize((64,64))\n",
        "    image = np.array(image)\n",
        "    data.append(image)\n",
        "    labels.append(categ)"
      ],
      "metadata": {
        "execution": {
          "iopub.status.busy": "2022-07-28T13:47:15.084293Z",
          "iopub.execute_input": "2022-07-28T13:47:15.087355Z",
          "iopub.status.idle": "2022-07-28T13:48:49.266092Z",
          "shell.execute_reply.started": "2022-07-28T13:47:15.08731Z",
          "shell.execute_reply": "2022-07-28T13:48:49.26505Z"
        },
        "trusted": true,
        "id": "m0f1oG-5sdy8"
      },
      "execution_count": null,
      "outputs": []
    },
    {
      "cell_type": "code",
      "source": [
        "for row in df_test.iterrows():\n",
        "    #print(row[1].label)\n",
        "    categ=row[1].label\n",
        "    imagepath=\"\"\n",
        "    if categ=='Erosion':\n",
        "        imagepath='../input/kvasiricapsule-labelledimages/erosion/Erosion'+'/'+row[1].filename\n",
        "    elif categ=='Angiectasia':\n",
        "        imagepath='../input/kvasiricapsule-labelledimages/angiectasia/Angiectasia'+'/'+row[1].filename\n",
        "    elif categ=='Pylorus':\n",
        "        imagepath='../input/kvasiricapsule-labelledimages/pylorus/Pylorus'+'/'+row[1].filename\n",
        "    elif categ=='Reduced Mucosal View':\n",
        "        imagepath='../input/kvasiricapsule-labelledimages/reduced_mucosal_view/Reduced mucosal view'+'/'+row[1].filename\n",
        "    elif categ=='Normal':\n",
        "        imagepath='../input/kvasiricapsule-labelledimages/normal_clean_mucosa/Normal clean mucosa'+'/'+row[1].filename\n",
        "    elif categ=='Ileo-cecal valve':\n",
        "        imagepath='../input/kvasiricapsule-labelledimages/ileocecal_valve/Ileocecal valve'+'/'+row[1].filename\n",
        "    elif categ=='Ulcer':\n",
        "        imagepath='../input/kvasiricapsule-labelledimages/ulcer/Ulcer'+'/'+row[1].filename\n",
        "    elif categ=='Lymphangiectasia':\n",
        "        imagepath='../input/kvasiricapsule-labelledimages/lymphangiectasia/Lymphangiectasia'+'/'+row[1].filename\n",
        "    elif categ=='Erythematous':\n",
        "        imagepath='../input/kvasiricapsule-labelledimages/erythema/Erythema'+'/'+row[1].filename\n",
        "    elif categ=='Foreign Bodies':\n",
        "        imagepath='../input/kvasiricapsule-labelledimages/foreign_body/Foreign body'+'/'+row[1].filename\n",
        "    elif categ=='Blood':\n",
        "        imagepath='../input/kvasiricapsule-labelledimages/blood_fresh/Blood - fresh'+'/'+row[1].filename\n",
        "    image = Image.open(imagepath)\n",
        "    image = image.resize((64,64))\n",
        "    image = np.array(image)\n",
        "    test_data.append(image)\n",
        "    test_labels.append(categ)\n"
      ],
      "metadata": {
        "execution": {
          "iopub.status.busy": "2022-07-28T13:48:55.063411Z",
          "iopub.execute_input": "2022-07-28T13:48:55.064435Z",
          "iopub.status.idle": "2022-07-28T13:50:23.486415Z",
          "shell.execute_reply.started": "2022-07-28T13:48:55.064362Z",
          "shell.execute_reply": "2022-07-28T13:50:23.485324Z"
        },
        "trusted": true,
        "id": "BRtWsJBusdzI"
      },
      "execution_count": null,
      "outputs": []
    },
    {
      "cell_type": "code",
      "source": [
        "data = np.array(data)\n",
        "labels = np.array(labels)"
      ],
      "metadata": {
        "execution": {
          "iopub.status.busy": "2022-07-28T13:50:39.286982Z",
          "iopub.execute_input": "2022-07-28T13:50:39.287345Z",
          "iopub.status.idle": "2022-07-28T13:50:39.408085Z",
          "shell.execute_reply.started": "2022-07-28T13:50:39.287306Z",
          "shell.execute_reply": "2022-07-28T13:50:39.407126Z"
        },
        "trusted": true,
        "id": "W-ie4Vx1sdzO"
      },
      "execution_count": null,
      "outputs": []
    },
    {
      "cell_type": "code",
      "source": [
        "test_data=np.array(test_data)\n",
        "test_labels=np.array(test_labels)"
      ],
      "metadata": {
        "execution": {
          "iopub.status.busy": "2022-07-28T13:50:42.63508Z",
          "iopub.execute_input": "2022-07-28T13:50:42.636177Z",
          "iopub.status.idle": "2022-07-28T13:50:42.753295Z",
          "shell.execute_reply.started": "2022-07-28T13:50:42.636126Z",
          "shell.execute_reply": "2022-07-28T13:50:42.752323Z"
        },
        "trusted": true,
        "id": "kfTtuToksdzS"
      },
      "execution_count": null,
      "outputs": []
    },
    {
      "cell_type": "code",
      "source": [
        "from sklearn.preprocessing import LabelEncoder\n",
        "le=LabelEncoder()\n",
        "labels=le.fit_transform(labels)"
      ],
      "metadata": {
        "execution": {
          "iopub.status.busy": "2022-07-28T13:50:45.939255Z",
          "iopub.execute_input": "2022-07-28T13:50:45.940217Z",
          "iopub.status.idle": "2022-07-28T13:50:45.953902Z",
          "shell.execute_reply.started": "2022-07-28T13:50:45.940166Z",
          "shell.execute_reply": "2022-07-28T13:50:45.952768Z"
        },
        "trusted": true,
        "id": "R98kF2UjsdzU"
      },
      "execution_count": null,
      "outputs": []
    },
    {
      "cell_type": "code",
      "source": [
        "test_labels=le.transform(test_labels)"
      ],
      "metadata": {
        "execution": {
          "iopub.status.busy": "2022-07-28T13:50:54.616119Z",
          "iopub.execute_input": "2022-07-28T13:50:54.616505Z",
          "iopub.status.idle": "2022-07-28T13:50:54.642653Z",
          "shell.execute_reply.started": "2022-07-28T13:50:54.616471Z",
          "shell.execute_reply": "2022-07-28T13:50:54.641806Z"
        },
        "trusted": true,
        "id": "kwXJ_SRUsdzV"
      },
      "execution_count": null,
      "outputs": []
    },
    {
      "cell_type": "code",
      "source": [
        "print(data.shape,labels.shape)"
      ],
      "metadata": {
        "execution": {
          "iopub.status.busy": "2022-07-28T13:50:57.743409Z",
          "iopub.execute_input": "2022-07-28T13:50:57.743766Z",
          "iopub.status.idle": "2022-07-28T13:50:57.749643Z",
          "shell.execute_reply.started": "2022-07-28T13:50:57.743736Z",
          "shell.execute_reply": "2022-07-28T13:50:57.748315Z"
        },
        "trusted": true,
        "id": "lLUUXuTdsdzd"
      },
      "execution_count": null,
      "outputs": []
    },
    {
      "cell_type": "code",
      "source": [
        "print(test_data.shape,test_labels.shape)"
      ],
      "metadata": {
        "execution": {
          "iopub.status.busy": "2022-07-28T13:51:00.943458Z",
          "iopub.execute_input": "2022-07-28T13:51:00.944128Z",
          "iopub.status.idle": "2022-07-28T13:51:00.949288Z",
          "shell.execute_reply.started": "2022-07-28T13:51:00.944089Z",
          "shell.execute_reply": "2022-07-28T13:51:00.948304Z"
        },
        "trusted": true,
        "id": "vn_H9aSasdzf"
      },
      "execution_count": null,
      "outputs": []
    },
    {
      "cell_type": "code",
      "source": [
        "labels = to_categorical(labels,11)\n",
        "test_labels=to_categorical(test_labels,11)"
      ],
      "metadata": {
        "execution": {
          "iopub.status.busy": "2022-07-28T13:51:05.487454Z",
          "iopub.execute_input": "2022-07-28T13:51:05.487893Z",
          "iopub.status.idle": "2022-07-28T13:51:05.493851Z",
          "shell.execute_reply.started": "2022-07-28T13:51:05.487848Z",
          "shell.execute_reply": "2022-07-28T13:51:05.492832Z"
        },
        "trusted": true,
        "id": "a6f4Ep2ysdzt"
      },
      "execution_count": null,
      "outputs": []
    },
    {
      "cell_type": "code",
      "source": [
        "datagen = ImageDataGenerator(\n",
        "    vertical_flip=True,\n",
        "    rotation_range=10,\n",
        "    horizontal_flip=True,\n",
        "    width_shift_range=0.2,\n",
        "    height_shift_range=0.2,\n",
        "    validation_split=0.2)\n",
        "datagen.fit(data)"
      ],
      "metadata": {
        "execution": {
          "iopub.status.busy": "2022-07-28T13:51:07.255457Z",
          "iopub.execute_input": "2022-07-28T13:51:07.256056Z",
          "iopub.status.idle": "2022-07-28T13:51:07.97775Z",
          "shell.execute_reply.started": "2022-07-28T13:51:07.256004Z",
          "shell.execute_reply": "2022-07-28T13:51:07.976759Z"
        },
        "trusted": true,
        "id": "vt_3jpzpsdzw"
      },
      "execution_count": null,
      "outputs": []
    },
    {
      "cell_type": "code",
      "source": [
        "#Installing vit-keras package\n",
        "!pip install vit-keras"
      ],
      "metadata": {
        "execution": {
          "iopub.status.busy": "2022-07-28T13:52:26.261337Z",
          "iopub.execute_input": "2022-07-28T13:52:26.262031Z",
          "iopub.status.idle": "2022-07-28T13:52:42.274943Z",
          "shell.execute_reply.started": "2022-07-28T13:52:26.261993Z",
          "shell.execute_reply": "2022-07-28T13:52:42.273707Z"
        },
        "trusted": true,
        "id": "SfSzUNZusdzy"
      },
      "execution_count": null,
      "outputs": []
    },
    {
      "cell_type": "code",
      "source": [
        "from vit_keras import vit"
      ],
      "metadata": {
        "execution": {
          "iopub.status.busy": "2022-07-28T13:53:00.37713Z",
          "iopub.execute_input": "2022-07-28T13:53:00.377619Z",
          "iopub.status.idle": "2022-07-28T13:53:00.68741Z",
          "shell.execute_reply.started": "2022-07-28T13:53:00.377576Z",
          "shell.execute_reply": "2022-07-28T13:53:00.686327Z"
        },
        "trusted": true,
        "id": "N0-F5OhUsdz8"
      },
      "execution_count": null,
      "outputs": []
    },
    {
      "cell_type": "code",
      "source": [
        "#loaded the vit_b16 model from the vit-keras package\n",
        "vit_model = vit.vit_b16(\n",
        "        image_size = 64,\n",
        "        activation = 'softmax',\n",
        "        pretrained = True,\n",
        "        include_top = True,\n",
        "        pretrained_top = False,\n",
        "        classes =11)\n"
      ],
      "metadata": {
        "execution": {
          "iopub.status.busy": "2022-07-28T13:53:30.90461Z",
          "iopub.execute_input": "2022-07-28T13:53:30.904991Z",
          "iopub.status.idle": "2022-07-28T13:55:25.869893Z",
          "shell.execute_reply.started": "2022-07-28T13:53:30.904959Z",
          "shell.execute_reply": "2022-07-28T13:55:25.868831Z"
        },
        "trusted": true,
        "id": "bzaxiXQFsd0G"
      },
      "execution_count": null,
      "outputs": []
    },
    {
      "cell_type": "code",
      "source": [
        "base_model = vit_model\n",
        "model=Sequential()\n",
        "model.add(base_model)\n",
        "#Here we added fully connected layers\n",
        "model.add(Flatten())\n",
        "model.add(BatchNormalization())\n",
        "model.add(Dense(256,kernel_initializer='he_uniform'))\n",
        "model.add(BatchNormalization())\n",
        "model.add(Activation('relu'))\n",
        "model.add(Dropout(0.1))\n",
        "model.add(Dense(256,kernel_initializer='he_uniform'))\n",
        "model.add(BatchNormalization())\n",
        "model.add(Activation('relu'))\n",
        "model.add(Dropout(0.1))\n",
        "model.add(Dense(11,activation='softmax'))\n",
        "model.summary()"
      ],
      "metadata": {
        "execution": {
          "iopub.status.busy": "2022-07-28T13:55:51.421437Z",
          "iopub.execute_input": "2022-07-28T13:55:51.422323Z",
          "iopub.status.idle": "2022-07-28T13:55:53.083719Z",
          "shell.execute_reply.started": "2022-07-28T13:55:51.422279Z",
          "shell.execute_reply": "2022-07-28T13:55:53.082698Z"
        },
        "trusted": true,
        "id": "eSrwINyqsd0Q"
      },
      "execution_count": null,
      "outputs": []
    },
    {
      "cell_type": "code",
      "source": [
        "def focal_loss(gamma=2., alpha=4.):\n",
        "\n",
        "    gamma = float(gamma)\n",
        "    alpha = float(alpha)\n",
        "\n",
        "    def focal_loss_fixed(y_true, y_pred):\n",
        "        epsilon = 1.e-9\n",
        "        y_true = tf.convert_to_tensor(y_true, tf.float32)\n",
        "        y_pred = tf.convert_to_tensor(y_pred, tf.float32)\n",
        "\n",
        "        model_out = tf.add(y_pred, epsilon)\n",
        "        ce = tf.multiply(y_true, -tf.math.log(model_out))\n",
        "        weight = tf.multiply(y_true, tf.pow(tf.subtract(1., model_out), gamma))\n",
        "        fl = tf.multiply(alpha, tf.multiply(weight, ce))\n",
        "        reduced_fl = tf.reduce_max(fl, axis=1)\n",
        "        return tf.reduce_mean(reduced_fl)\n",
        "    return focal_loss_fixed"
      ],
      "metadata": {
        "execution": {
          "iopub.status.busy": "2022-07-27T14:49:18.928435Z",
          "iopub.execute_input": "2022-07-27T14:49:18.929095Z",
          "iopub.status.idle": "2022-07-27T14:49:18.940227Z",
          "shell.execute_reply.started": "2022-07-27T14:49:18.929059Z",
          "shell.execute_reply": "2022-07-27T14:49:18.939308Z"
        },
        "trusted": true,
        "id": "tWFnCTFzsd1j"
      },
      "execution_count": null,
      "outputs": []
    },
    {
      "cell_type": "code",
      "source": [
        "from tensorflow.keras.callbacks import EarlyStopping, ModelCheckpoint\n",
        "es = EarlyStopping(monitor='val_loss', mode='min', patience=5,restore_best_weights=True, verbose=1)\n",
        "\n",
        "from keras.callbacks import ReduceLROnPlateau\n",
        "learning_rate_reduction=ReduceLROnPlateau(monitor='val_accuracy', patience=3, verbose=0, factor=0.5, min_lr=0.00001)"
      ],
      "metadata": {
        "execution": {
          "iopub.status.busy": "2022-07-27T14:49:18.942471Z",
          "iopub.execute_input": "2022-07-27T14:49:18.942752Z",
          "iopub.status.idle": "2022-07-27T14:49:18.950801Z",
          "shell.execute_reply.started": "2022-07-27T14:49:18.942725Z",
          "shell.execute_reply": "2022-07-27T14:49:18.949864Z"
        },
        "trusted": true,
        "id": "w8UrnL_0sd1l"
      },
      "execution_count": null,
      "outputs": []
    },
    {
      "cell_type": "code",
      "source": [
        "model.compile(loss=focal_loss(), optimizer='nadam', metrics=['accuracy'])"
      ],
      "metadata": {
        "execution": {
          "iopub.status.busy": "2022-07-27T14:49:18.956582Z",
          "iopub.execute_input": "2022-07-27T14:49:18.956834Z",
          "iopub.status.idle": "2022-07-27T14:49:18.980483Z",
          "shell.execute_reply.started": "2022-07-27T14:49:18.95681Z",
          "shell.execute_reply": "2022-07-27T14:49:18.979506Z"
        },
        "trusted": true,
        "id": "oaoFU4_jsd1n"
      },
      "execution_count": null,
      "outputs": []
    },
    {
      "cell_type": "code",
      "source": [
        "history=model.fit(datagen.flow(data,labels, batch_size=64,\n",
        "         subset='training'),\n",
        "         validation_data=datagen.flow(data,labels,\n",
        "         batch_size=32, subset='validation'), epochs=50,callbacks=[learning_rate_reduction])\n",
        "model.save(\"my_model.h5\")"
      ],
      "metadata": {
        "execution": {
          "iopub.status.busy": "2022-07-27T14:49:18.98196Z",
          "iopub.execute_input": "2022-07-27T14:49:18.982387Z",
          "iopub.status.idle": "2022-07-27T15:43:52.984828Z",
          "shell.execute_reply.started": "2022-07-27T14:49:18.982349Z",
          "shell.execute_reply": "2022-07-27T15:43:52.983877Z"
        },
        "trusted": true,
        "id": "vfRdDEPmsd14"
      },
      "execution_count": null,
      "outputs": []
    },
    {
      "cell_type": "code",
      "source": [
        "y_pred=model.predict(test_data)\n",
        "y_pred=[np.argmax(x) for x in y_pred]"
      ],
      "metadata": {
        "execution": {
          "iopub.status.busy": "2022-07-27T15:47:38.823315Z",
          "iopub.execute_input": "2022-07-27T15:47:38.82368Z",
          "iopub.status.idle": "2022-07-27T15:48:08.022988Z",
          "shell.execute_reply.started": "2022-07-27T15:47:38.823647Z",
          "shell.execute_reply": "2022-07-27T15:48:08.021968Z"
        },
        "trusted": true,
        "id": "Wy2dSQxPsd19"
      },
      "execution_count": null,
      "outputs": []
    },
    {
      "cell_type": "code",
      "source": [
        "y_test=[np.argmax(x) for x in test_labels]"
      ],
      "metadata": {
        "execution": {
          "iopub.status.busy": "2022-07-27T15:48:08.025362Z",
          "iopub.execute_input": "2022-07-27T15:48:08.025815Z",
          "iopub.status.idle": "2022-07-27T15:48:08.088644Z",
          "shell.execute_reply.started": "2022-07-27T15:48:08.025772Z",
          "shell.execute_reply": "2022-07-27T15:48:08.087709Z"
        },
        "trusted": true,
        "id": "5PAWs8jTsd2B"
      },
      "execution_count": null,
      "outputs": []
    },
    {
      "cell_type": "code",
      "source": [
        "print('Accuracy:', np.round(metrics.accuracy_score(y_test, y_pred),4))\n",
        "print('Precision:', np.round(metrics.precision_score(y_test, y_pred, average='macro'),4))\n",
        "print('Recall:', np.round(metrics.recall_score(y_test,y_pred, average='macro'),4))\n",
        "print('F1 Score:', np.round(metrics.f1_score(y_test, y_pred, average='macro'),4))\n",
        "print('Precision:', np.round(metrics.precision_score(y_test, y_pred, average='micro'),4))\n",
        "print('Recall:', np.round(metrics.recall_score(y_test,y_pred, average='micro'),4))\n",
        "print('F1 Score:', np.round(metrics.f1_score(y_test, y_pred, average='micro'),4))\n",
        "print('Cohen Kappa Score:', np.round(metrics.cohen_kappa_score(y_test, y_pred),4))\n",
        "print('MCC:', np.round(metrics.matthews_corrcoef(y_test, y_pred),4))\n",
        "print('\\t\\tClassification Report:\\n', metrics.classification_report(y_test, y_pred))"
      ],
      "metadata": {
        "execution": {
          "iopub.status.busy": "2022-07-27T15:48:08.090305Z",
          "iopub.execute_input": "2022-07-27T15:48:08.090681Z",
          "iopub.status.idle": "2022-07-27T15:48:08.305263Z",
          "shell.execute_reply.started": "2022-07-27T15:48:08.090645Z",
          "shell.execute_reply": "2022-07-27T15:48:08.304074Z"
        },
        "trusted": true,
        "id": "SPS_lyrtsd2E"
      },
      "execution_count": null,
      "outputs": []
    },
    {
      "cell_type": "code",
      "source": [
        "plt.figure(0)\n",
        "plt.plot(history.history['accuracy'], label='training accuracy')\n",
        "plt.plot(history.history['val_accuracy'], label='val accuracy')\n",
        "plt.title('Accuracy')\n",
        "plt.xlabel('epochs')\n",
        "plt.ylabel('accuracy')\n",
        "plt.legend()\n",
        "plt.show()\n",
        "\n",
        "plt.figure(1)\n",
        "plt.plot(history.history['loss'], label='training loss')\n",
        "plt.plot(history.history['val_loss'], label='val loss')\n",
        "plt.title('Loss')\n",
        "plt.xlabel('epochs')\n",
        "plt.ylabel('loss')\n",
        "plt.legend()\n",
        "plt.show()\n",
        "\n"
      ],
      "metadata": {
        "execution": {
          "iopub.status.busy": "2022-07-27T15:53:51.576735Z",
          "iopub.execute_input": "2022-07-27T15:53:51.577105Z",
          "iopub.status.idle": "2022-07-27T15:53:52.025894Z",
          "shell.execute_reply.started": "2022-07-27T15:53:51.577073Z",
          "shell.execute_reply": "2022-07-27T15:53:52.024865Z"
        },
        "trusted": true,
        "id": "vZO-hYGNsd2H"
      },
      "execution_count": null,
      "outputs": []
    }
  ]
}