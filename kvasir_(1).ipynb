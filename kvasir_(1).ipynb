{
  "cells": [
    {
      "cell_type": "code",
      "execution_count": null,
      "id": "a4c0d267",
      "metadata": {
        "execution": {
          "iopub.execute_input": "2022-10-13T10:02:08.648959Z",
          "iopub.status.busy": "2022-10-13T10:02:08.647276Z",
          "iopub.status.idle": "2022-10-13T10:02:13.953655Z",
          "shell.execute_reply": "2022-10-13T10:02:13.952721Z"
        },
        "papermill": {
          "duration": 5.314581,
          "end_time": "2022-10-13T10:02:13.955987",
          "exception": false,
          "start_time": "2022-10-13T10:02:08.641406",
          "status": "completed"
        },
        "tags": [],
        "id": "a4c0d267"
      },
      "outputs": [],
      "source": [
        "#First, we import all the necessary library.This neural network is implemented in keras.\n",
        "#Next we will import all the module that we'll use through out this notebook\n",
        "import tensorflow as tf\n",
        "import keras\n",
        "from keras.callbacks import ModelCheckpoint\n",
        "from skimage.color import gray2rgb,rgb2gray,label2rgb\n",
        "import cv2 as cv\n",
        "import numpy as np\n",
        "import os\n",
        "import matplotlib.pyplot as plt\n",
        "from tqdm import tqdm\n",
        "import random\n",
        "import pickle\n",
        "import tensorflow as tf\n",
        "\n",
        "img_size=224"
      ]
    },
    {
      "cell_type": "code",
      "execution_count": null,
      "id": "3903b036",
      "metadata": {
        "execution": {
          "iopub.execute_input": "2022-10-13T10:02:13.968083Z",
          "iopub.status.busy": "2022-10-13T10:02:13.967593Z",
          "iopub.status.idle": "2022-10-13T10:02:14.381064Z",
          "shell.execute_reply": "2022-10-13T10:02:14.379762Z"
        },
        "papermill": {
          "duration": 0.422237,
          "end_time": "2022-10-13T10:02:14.383771",
          "exception": false,
          "start_time": "2022-10-13T10:02:13.961534",
          "status": "completed"
        },
        "tags": [],
        "id": "3903b036"
      },
      "outputs": [],
      "source": [
        "directory=['dyed-lifted-polyps','dyed-resection-margins','esophagitis','normal-cecum','normal-pylorus','normal-z-line','polyps','ulcerative-colitis']\n",
        "y=[]\n",
        "for i in directory:\n",
        "    print(i)\n",
        "    y.append(len(os.listdir(os.path.join('../input/dataset/kvasir-dataset-v2' +'/' +i))))\n",
        "print(y)                  "
      ]
    },
    {
      "cell_type": "code",
      "execution_count": null,
      "id": "7ecf73d5",
      "metadata": {
        "execution": {
          "iopub.execute_input": "2022-10-13T10:02:14.395377Z",
          "iopub.status.busy": "2022-10-13T10:02:14.395074Z",
          "iopub.status.idle": "2022-10-13T10:02:59.623592Z",
          "shell.execute_reply": "2022-10-13T10:02:59.622162Z"
        },
        "papermill": {
          "duration": 45.236278,
          "end_time": "2022-10-13T10:02:59.625764",
          "exception": false,
          "start_time": "2022-10-13T10:02:14.389486",
          "status": "completed"
        },
        "tags": [],
        "id": "7ecf73d5"
      },
      "outputs": [],
      "source": [
        "!pip install split-folders\n",
        "input_folder = '../input/dataset/kvasir-dataset-v2'\n",
        "import splitfolders\n",
        "\n",
        "splitfolders.ratio(input_folder,output='data2',seed=42,ratio=(.9,.1),group_prefix=None)"
      ]
    },
    {
      "cell_type": "code",
      "execution_count": null,
      "id": "862685b6",
      "metadata": {
        "execution": {
          "iopub.execute_input": "2022-10-13T10:02:59.742899Z",
          "iopub.status.busy": "2022-10-13T10:02:59.742570Z",
          "iopub.status.idle": "2022-10-13T10:03:00.167334Z",
          "shell.execute_reply": "2022-10-13T10:03:00.166357Z"
        },
        "papermill": {
          "duration": 0.452141,
          "end_time": "2022-10-13T10:03:00.169799",
          "exception": false,
          "start_time": "2022-10-13T10:02:59.717658",
          "status": "completed"
        },
        "tags": [],
        "id": "862685b6"
      },
      "outputs": [],
      "source": [
        "train_datagen = tf.keras.preprocessing.image.ImageDataGenerator(\n",
        "    rescale=1./255,\n",
        "    shear_range=0.2,\n",
        "    rotation_range=30,\n",
        "    data_format='channels_last',\n",
        "    vertical_flip=True,\n",
        "    brightness_range=[0.5, 1.5],\n",
        "    validation_split=0.112\n",
        ")\n"
      ]
    },
    {
      "cell_type": "code",
      "execution_count": null,
      "id": "531dfe10",
      "metadata": {
        "execution": {
          "iopub.execute_input": "2022-10-13T10:03:00.222554Z",
          "iopub.status.busy": "2022-10-13T10:03:00.220841Z",
          "iopub.status.idle": "2022-10-13T10:03:00.667988Z",
          "shell.execute_reply": "2022-10-13T10:03:00.665968Z"
        },
        "papermill": {
          "duration": 0.474847,
          "end_time": "2022-10-13T10:03:00.670077",
          "exception": false,
          "start_time": "2022-10-13T10:03:00.195230",
          "status": "completed"
        },
        "tags": [],
        "id": "531dfe10"
      },
      "outputs": [],
      "source": [
        "train_generator = train_datagen.flow_from_directory(\n",
        "'./data2/train',\n",
        "target_size=(img_size,img_size),\n",
        "batch_size=16,\n",
        "color_mode = 'rgb',\n",
        "shuffle = True,\n",
        "seed = 42,\n",
        "class_mode='categorical',\n",
        "subset = 'training'\n",
        ")\n",
        "\n",
        "\n",
        "valid_generator = train_datagen.flow_from_directory(\n",
        "directory=\"./data2/train\",\n",
        "target_size=(img_size, img_size),\n",
        "color_mode=\"rgb\",\n",
        "batch_size=16,\n",
        "class_mode=\"categorical\",\n",
        "shuffle=True,\n",
        "seed=42,\n",
        "subset ='validation'\n",
        "\n",
        ")\n"
      ]
    },
    {
      "cell_type": "code",
      "execution_count": null,
      "id": "2153037d",
      "metadata": {
        "execution": {
          "iopub.execute_input": "2022-10-13T10:03:00.719363Z",
          "iopub.status.busy": "2022-10-13T10:03:00.719058Z",
          "iopub.status.idle": "2022-10-13T10:03:00.829386Z",
          "shell.execute_reply": "2022-10-13T10:03:00.828160Z"
        },
        "papermill": {
          "duration": 0.136996,
          "end_time": "2022-10-13T10:03:00.831465",
          "exception": false,
          "start_time": "2022-10-13T10:03:00.694469",
          "status": "completed"
        },
        "tags": [],
        "id": "2153037d"
      },
      "outputs": [],
      "source": [
        "test_datagen = tf.keras.preprocessing.image.ImageDataGenerator(\n",
        "    rescale=1./255, \n",
        " )\n",
        "\n",
        "test_generator = test_datagen.flow_from_directory(\n",
        "    directory=\"./data2/val\",\n",
        "    target_size=(img_size, img_size),\n",
        "    color_mode=\"rgb\",\n",
        "    batch_size=1,\n",
        "    class_mode='binary',\n",
        "    shuffle=False,\n",
        "    seed=42\n",
        "    )"
      ]
    },
    {
      "cell_type": "code",
      "execution_count": null,
      "id": "aeaf50b8",
      "metadata": {
        "execution": {
          "iopub.execute_input": "2022-10-13T10:03:00.881281Z",
          "iopub.status.busy": "2022-10-13T10:03:00.881010Z",
          "iopub.status.idle": "2022-10-13T10:03:08.683768Z",
          "shell.execute_reply": "2022-10-13T10:03:08.682658Z"
        },
        "papermill": {
          "duration": 7.830334,
          "end_time": "2022-10-13T10:03:08.686159",
          "exception": false,
          "start_time": "2022-10-13T10:03:00.855825",
          "status": "completed"
        },
        "tags": [],
        "id": "aeaf50b8"
      },
      "outputs": [],
      "source": [
        "from tensorflow.keras.models import Sequential\n",
        "import tensorflow as tf\n",
        "from tensorflow.keras.layers import Conv3D,Conv2D,MaxPooling2D,Input,Dense,Flatten,Dropout,Activation,BatchNormalization,GlobalAveragePooling2D\n",
        "from tensorflow.keras.layers import PReLU\n",
        "from tensorflow.keras.optimizers import Adam, Adagrad, RMSprop\n",
        "from tensorflow.keras.callbacks import EarlyStopping\n",
        "\n",
        "base_model=tf.keras.applications.DenseNet201(\n",
        "    input_shape=(img_size, img_size, 3),\n",
        "    include_top=False)\n",
        "base_model.summary()\n"
      ]
    },
    {
      "cell_type": "code",
      "execution_count": null,
      "id": "6653e619",
      "metadata": {
        "execution": {
          "iopub.execute_input": "2022-10-13T10:03:08.738279Z",
          "iopub.status.busy": "2022-10-13T10:03:08.736781Z",
          "iopub.status.idle": "2022-10-13T10:03:08.770609Z",
          "shell.execute_reply": "2022-10-13T10:03:08.769761Z"
        },
        "papermill": {
          "duration": 0.067532,
          "end_time": "2022-10-13T10:03:08.778712",
          "exception": false,
          "start_time": "2022-10-13T10:03:08.711180",
          "status": "completed"
        },
        "tags": [],
        "id": "6653e619"
      },
      "outputs": [],
      "source": [
        "#  only training some layers \n",
        "\n",
        "for layers in base_model.layers[:-11]:\n",
        "    layers.trainable=False\n",
        "  \n",
        "for layers in base_model.layers:\n",
        "    print(layers ,layers.trainable)"
      ]
    },
    {
      "cell_type": "code",
      "execution_count": null,
      "id": "39c1e996",
      "metadata": {
        "execution": {
          "iopub.execute_input": "2022-10-13T10:03:08.834027Z",
          "iopub.status.busy": "2022-10-13T10:03:08.832472Z",
          "iopub.status.idle": "2022-10-13T10:03:08.839913Z",
          "shell.execute_reply": "2022-10-13T10:03:08.839055Z"
        },
        "papermill": {
          "duration": 0.035702,
          "end_time": "2022-10-13T10:03:08.841785",
          "exception": false,
          "start_time": "2022-10-13T10:03:08.806083",
          "status": "completed"
        },
        "tags": [],
        "id": "39c1e996"
      },
      "outputs": [],
      "source": [
        "def createmodel():\n",
        "    model = Sequential()\n",
        "    model.add(base_model) #loads above imported pretrained model\n",
        "    # # here we added new layers\n",
        "    model.add(GlobalAveragePooling2D())\n",
        "    model.add(Flatten())\n",
        "    model.add(Dense(512, activation='relu'))\n",
        "    #model.add(Dropout(0.1))\n",
        "    model.add(Dense(8, activation='softmax', name ='output'))\n",
        "  \n",
        "    opt = Adam(lr= 1e-3/100, decay= 1e-3 /100)\n",
        "    model.compile(loss=\"categorical_crossentropy\", optimizer=opt, metrics=[\"accuracy\"])\n",
        "    return model"
      ]
    },
    {
      "cell_type": "code",
      "execution_count": null,
      "id": "47d07c4d",
      "metadata": {
        "execution": {
          "iopub.execute_input": "2022-10-13T10:03:08.894395Z",
          "iopub.status.busy": "2022-10-13T10:03:08.894107Z",
          "iopub.status.idle": "2022-10-13T10:03:10.377038Z",
          "shell.execute_reply": "2022-10-13T10:03:10.375339Z"
        },
        "papermill": {
          "duration": 1.512811,
          "end_time": "2022-10-13T10:03:10.379954",
          "exception": false,
          "start_time": "2022-10-13T10:03:08.867143",
          "status": "completed"
        },
        "tags": [],
        "id": "47d07c4d"
      },
      "outputs": [],
      "source": [
        "model=createmodel()\n"
      ]
    },
    {
      "cell_type": "code",
      "execution_count": null,
      "id": "faf7040f",
      "metadata": {
        "execution": {
          "iopub.execute_input": "2022-10-13T10:03:10.433466Z",
          "iopub.status.busy": "2022-10-13T10:03:10.433119Z",
          "iopub.status.idle": "2022-10-13T13:52:32.198308Z",
          "shell.execute_reply": "2022-10-13T13:52:32.197350Z"
        },
        "papermill": {
          "duration": 13763.289722,
          "end_time": "2022-10-13T13:52:33.696518",
          "exception": false,
          "start_time": "2022-10-13T10:03:10.406796",
          "status": "completed"
        },
        "tags": [],
        "id": "faf7040f"
      },
      "outputs": [],
      "source": [
        "history=model.fit_generator(\n",
        "        train_generator,\n",
        "        epochs=70,\n",
        "        validation_data=valid_generator,\n",
        "        validation_steps=21\n",
        "        )"
      ]
    },
    {
      "cell_type": "code",
      "execution_count": null,
      "id": "8d0e5b0d",
      "metadata": {
        "execution": {
          "iopub.execute_input": "2022-10-13T13:52:37.155734Z",
          "iopub.status.busy": "2022-10-13T13:52:37.155364Z",
          "iopub.status.idle": "2022-10-13T13:52:38.171284Z",
          "shell.execute_reply": "2022-10-13T13:52:38.170373Z"
        },
        "papermill": {
          "duration": 2.634817,
          "end_time": "2022-10-13T13:52:38.173980",
          "exception": false,
          "start_time": "2022-10-13T13:52:35.539163",
          "status": "completed"
        },
        "tags": [],
        "id": "8d0e5b0d"
      },
      "outputs": [],
      "source": [
        "model.save('ksavir.hdf5')"
      ]
    },
    {
      "cell_type": "code",
      "execution_count": null,
      "id": "614bebe2",
      "metadata": {
        "execution": {
          "iopub.execute_input": "2022-10-13T13:52:41.294970Z",
          "iopub.status.busy": "2022-10-13T13:52:41.294609Z",
          "iopub.status.idle": "2022-10-13T13:53:23.252374Z",
          "shell.execute_reply": "2022-10-13T13:53:23.250917Z"
        },
        "papermill": {
          "duration": 43.473095,
          "end_time": "2022-10-13T13:53:23.254378",
          "exception": false,
          "start_time": "2022-10-13T13:52:39.781283",
          "status": "completed"
        },
        "tags": [],
        "id": "614bebe2"
      },
      "outputs": [],
      "source": [
        "import tensorflow as tf\n",
        "\n",
        "model = tf.keras.models.load_model('./ksavir.hdf5')\n",
        "\n",
        "prediction=model.predict(test_generator,verbose=1)\n",
        "print(prediction)"
      ]
    },
    {
      "cell_type": "code",
      "execution_count": null,
      "id": "30fb7fdd",
      "metadata": {
        "execution": {
          "iopub.execute_input": "2022-10-13T13:53:26.516767Z",
          "iopub.status.busy": "2022-10-13T13:53:26.516411Z",
          "iopub.status.idle": "2022-10-13T13:53:26.523336Z",
          "shell.execute_reply": "2022-10-13T13:53:26.522394Z"
        },
        "papermill": {
          "duration": 1.635285,
          "end_time": "2022-10-13T13:53:26.526041",
          "exception": false,
          "start_time": "2022-10-13T13:53:24.890756",
          "status": "completed"
        },
        "tags": [],
        "id": "30fb7fdd"
      },
      "outputs": [],
      "source": [
        "yp=np.argmax(prediction,axis=1)\n",
        "print(yp)"
      ]
    },
    {
      "cell_type": "code",
      "execution_count": null,
      "id": "dc206b76",
      "metadata": {
        "execution": {
          "iopub.execute_input": "2022-10-13T13:53:29.823168Z",
          "iopub.status.busy": "2022-10-13T13:53:29.822757Z",
          "iopub.status.idle": "2022-10-13T13:53:30.438270Z",
          "shell.execute_reply": "2022-10-13T13:53:30.437371Z"
        },
        "papermill": {
          "duration": 2.386805,
          "end_time": "2022-10-13T13:53:30.440753",
          "exception": false,
          "start_time": "2022-10-13T13:53:28.053948",
          "status": "completed"
        },
        "tags": [],
        "id": "dc206b76"
      },
      "outputs": [],
      "source": [
        "from sklearn.metrics import classification_report, confusion_matrix,matthews_corrcoef\n",
        "\n",
        "print('Classification Report')\n",
        "\n",
        "print(classification_report(test_generator.classes, yp, target_names=directory,digits=4))\n",
        "print(matthews_corrcoef(test_generator.classes,yp))"
      ]
    },
    {
      "cell_type": "code",
      "execution_count": null,
      "id": "dfd4e6a7",
      "metadata": {
        "execution": {
          "iopub.execute_input": "2022-10-13T13:53:33.715490Z",
          "iopub.status.busy": "2022-10-13T13:53:33.715113Z",
          "iopub.status.idle": "2022-10-13T13:53:34.071224Z",
          "shell.execute_reply": "2022-10-13T13:53:34.070240Z"
        },
        "papermill": {
          "duration": 1.974448,
          "end_time": "2022-10-13T13:53:34.073446",
          "exception": false,
          "start_time": "2022-10-13T13:53:32.098998",
          "status": "completed"
        },
        "tags": [],
        "id": "dfd4e6a7"
      },
      "outputs": [],
      "source": [
        "acc = history.history['accuracy']\n",
        "val_acc = history.history['val_accuracy']\n",
        "\n",
        "loss = history.history['loss']\n",
        "val_loss = history.history['val_loss']\n",
        "\n",
        "plt.figure(figsize=(8, 8))\n",
        "plt.subplot(2, 1, 1)\n",
        "plt.plot(acc, label='Training Accuracy')\n",
        "plt.plot(val_acc, label='Validation Accuracy')\n",
        "plt.legend(loc='lower right')\n",
        "plt.ylabel('Accuracy')\n",
        "plt.ylim([min(plt.ylim()),1])\n",
        "plt.title('Training and Validation Accuracy')\n",
        "\n",
        "plt.subplot(2, 1, 2)\n",
        "plt.plot(loss, label='Training Loss')\n",
        "plt.plot(val_loss, label='Validation Loss')\n",
        "plt.legend(loc='upper right')\n",
        "plt.ylabel('Cross Entropy')\n",
        "plt.ylim([0,1.0])\n",
        "plt.title('Training and Validation Loss')\n",
        "plt.xlabel('epoch')\n",
        "plt.show()"
      ]
    },
    {
      "cell_type": "code",
      "execution_count": null,
      "id": "2d77aca1",
      "metadata": {
        "papermill": {
          "duration": 1.671868,
          "end_time": "2022-10-13T13:54:16.737788",
          "exception": false,
          "start_time": "2022-10-13T13:54:15.065920",
          "status": "completed"
        },
        "tags": [],
        "id": "2d77aca1"
      },
      "outputs": [],
      "source": []
    }
  ],
  "metadata": {
    "kernelspec": {
      "display_name": "Python 3",
      "language": "python",
      "name": "python3"
    },
    "language_info": {
      "codemirror_mode": {
        "name": "ipython",
        "version": 3
      },
      "file_extension": ".py",
      "mimetype": "text/x-python",
      "name": "python",
      "nbconvert_exporter": "python",
      "pygments_lexer": "ipython3",
      "version": "3.7.12"
    },
    "papermill": {
      "default_parameters": {},
      "duration": 13951.837474,
      "end_time": "2022-10-13T13:54:22.142531",
      "environment_variables": {},
      "exception": null,
      "input_path": "__notebook__.ipynb",
      "output_path": "__notebook__.ipynb",
      "parameters": {},
      "start_time": "2022-10-13T10:01:50.305057",
      "version": "2.3.4"
    },
    "colab": {
      "provenance": []
    }
  },
  "nbformat": 4,
  "nbformat_minor": 5
}