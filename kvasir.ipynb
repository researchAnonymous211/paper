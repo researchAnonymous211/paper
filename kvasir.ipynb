{
  "metadata": {
    "kernelspec": {
      "language": "python",
      "display_name": "Python 3",
      "name": "python3"
    },
    "language_info": {
      "name": "python",
      "version": "3.7.12",
      "mimetype": "text/x-python",
      "codemirror_mode": {
        "name": "ipython",
        "version": 3
      },
      "pygments_lexer": "ipython3",
      "nbconvert_exporter": "python",
      "file_extension": ".py"
    },
    "colab": {
      "provenance": []
    }
  },
  "nbformat_minor": 0,
  "nbformat": 4,
  "cells": [
    {
      "cell_type": "code",
      "source": [
        "#First, we import all the necessary library.This neural network is implemented in keras.\n",
        "#Next we will import all the module that we'll use through out this notebook\n",
        "import tensorflow as tf\n",
        "import keras\n",
        "from keras.callbacks import ModelCheckpoint\n",
        "from skimage.color import gray2rgb,rgb2gray,label2rgb\n",
        "import cv2 as cv\n",
        "import numpy as np\n",
        "import os\n",
        "from sklearn import metrics\n",
        "import matplotlib.pyplot as plt\n",
        "from tqdm import tqdm\n",
        "import random\n",
        "import pickle\n",
        "from keras.models import Sequential, load_model\n",
        "from sklearn.metrics import accuracy_score\n",
        "import seaborn as sns \n",
        "img_size=224\n"
      ],
      "metadata": {
        "execution": {
          "iopub.status.busy": "2023-01-04T08:34:02.438085Z",
          "iopub.execute_input": "2023-01-04T08:34:02.438530Z",
          "iopub.status.idle": "2023-01-04T08:34:08.787627Z",
          "shell.execute_reply.started": "2023-01-04T08:34:02.438489Z",
          "shell.execute_reply": "2023-01-04T08:34:08.786643Z"
        },
        "trusted": true,
        "id": "L1BtCZNCwHlM"
      },
      "execution_count": null,
      "outputs": []
    },
    {
      "cell_type": "code",
      "source": [
        "directory=['dyed-lifted-polyps','dyed-resection-margins','esophagitis','normal-cecum','normal-pylorus','normal-z-line','polyps','ulcerative-colitis']\n",
        "y=[]\n",
        "for i in directory:\n",
        "    print(i)\n",
        "    y.append(len(os.listdir(os.path.join('../input/dataset/kvasir-dataset-v2' +'/' +i))))\n",
        "print(y)                  "
      ],
      "metadata": {
        "execution": {
          "iopub.status.busy": "2023-01-04T08:34:08.789051Z",
          "iopub.execute_input": "2023-01-04T08:34:08.789701Z",
          "iopub.status.idle": "2023-01-04T08:34:09.731865Z",
          "shell.execute_reply.started": "2023-01-04T08:34:08.789660Z",
          "shell.execute_reply": "2023-01-04T08:34:09.730746Z"
        },
        "trusted": true,
        "id": "VHdGaCWhwHlO"
      },
      "execution_count": null,
      "outputs": []
    },
    {
      "cell_type": "code",
      "source": [
        "!pip install split-folders\n",
        "input_folder = '../input/dataset/kvasir-dataset-v2'\n",
        "import splitfolders\n",
        "\n",
        "splitfolders.ratio(input_folder,output='data2',seed=42,ratio=(.9,.1),group_prefix=None)"
      ],
      "metadata": {
        "execution": {
          "iopub.status.busy": "2023-01-04T08:34:09.734536Z",
          "iopub.execute_input": "2023-01-04T08:34:09.735001Z",
          "iopub.status.idle": "2023-01-04T08:35:19.296266Z",
          "shell.execute_reply.started": "2023-01-04T08:34:09.734961Z",
          "shell.execute_reply": "2023-01-04T08:35:19.295000Z"
        },
        "trusted": true,
        "id": "7VzH5XkZwHlQ",
        "outputId": "18215d63-7d02-43ed-e248-4b17180ebb7a"
      },
      "execution_count": null,
      "outputs": [
        {
          "name": "stderr",
          "text": "Copying files: 8000 files [01:09, 115.04 files/s]\n",
          "output_type": "stream"
        }
      ]
    },
    {
      "cell_type": "code",
      "source": [
        "train_datagen = tf.keras.preprocessing.image.ImageDataGenerator(\n",
        "    rescale=1./255,\n",
        "    shear_range=0.2,\n",
        "    rotation_range=30,\n",
        "    data_format='channels_last',\n",
        "    vertical_flip=True,\n",
        "    brightness_range=[0.5, 1.5],\n",
        "    validation_split=0.112\n",
        ")"
      ],
      "metadata": {
        "execution": {
          "iopub.status.busy": "2023-01-04T08:35:19.341177Z",
          "iopub.execute_input": "2023-01-04T08:35:19.342579Z",
          "iopub.status.idle": "2023-01-04T08:35:19.352179Z",
          "shell.execute_reply.started": "2023-01-04T08:35:19.342532Z",
          "shell.execute_reply": "2023-01-04T08:35:19.351113Z"
        },
        "trusted": true,
        "id": "Teqla1AYwHlS"
      },
      "execution_count": null,
      "outputs": []
    },
    {
      "cell_type": "code",
      "source": [
        "train_generator = train_datagen.flow_from_directory(\n",
        "'./data2/train',\n",
        "target_size=(img_size,img_size),\n",
        "batch_size=16,\n",
        "color_mode = 'rgb',\n",
        "shuffle = True,\n",
        "seed = 42,\n",
        "class_mode='categorical',\n",
        "subset = 'training'\n",
        ")\n",
        "\n",
        "\n",
        "valid_generator = train_datagen.flow_from_directory(\n",
        "directory=\"./data2/train\",\n",
        "target_size=(img_size, img_size),\n",
        "color_mode=\"rgb\",\n",
        "batch_size=16,\n",
        "class_mode=\"categorical\",\n",
        "shuffle=True,\n",
        "seed=42,\n",
        "subset ='validation'\n",
        "\n",
        ")\n"
      ],
      "metadata": {
        "execution": {
          "iopub.status.busy": "2023-01-04T08:35:19.353769Z",
          "iopub.execute_input": "2023-01-04T08:35:19.354152Z",
          "iopub.status.idle": "2023-01-04T08:35:19.779251Z",
          "shell.execute_reply.started": "2023-01-04T08:35:19.354116Z",
          "shell.execute_reply": "2023-01-04T08:35:19.778170Z"
        },
        "trusted": true,
        "id": "xudx1AE_wHlS"
      },
      "execution_count": null,
      "outputs": []
    },
    {
      "cell_type": "code",
      "source": [
        "test_datagen = tf.keras.preprocessing.image.ImageDataGenerator(\n",
        "    # horizontal_flip=True,\n",
        "    # zoom_range=[0.5, 1.25],\n",
        "    rescale=1./255, \n",
        " )\n",
        "\n",
        "test_generator = test_datagen.flow_from_directory(\n",
        "    directory=\"./data2/val\",\n",
        "    target_size=(img_size, img_size),\n",
        "    color_mode=\"rgb\",\n",
        "    batch_size=1,\n",
        "    class_mode='binary',\n",
        "    shuffle=False,\n",
        "    seed=42\n",
        "    )"
      ],
      "metadata": {
        "execution": {
          "iopub.status.busy": "2023-01-04T08:35:19.781049Z",
          "iopub.execute_input": "2023-01-04T08:35:19.781786Z",
          "iopub.status.idle": "2023-01-04T08:35:19.890922Z",
          "shell.execute_reply.started": "2023-01-04T08:35:19.781742Z",
          "shell.execute_reply": "2023-01-04T08:35:19.889902Z"
        },
        "trusted": true,
        "id": "8G8klKpKwHlT"
      },
      "execution_count": null,
      "outputs": []
    },
    {
      "cell_type": "code",
      "source": [
        "import tensorflow_addons as tfa\n",
        "#installing vit-keras package\n",
        "!pip install vit-keras\n",
        "from vit_keras import vit"
      ],
      "metadata": {
        "execution": {
          "iopub.status.busy": "2023-01-04T08:42:37.109149Z",
          "iopub.execute_input": "2023-01-04T08:42:37.109776Z",
          "iopub.status.idle": "2023-01-04T08:42:48.714180Z",
          "shell.execute_reply.started": "2023-01-04T08:42:37.109741Z",
          "shell.execute_reply": "2023-01-04T08:42:48.713022Z"
        },
        "trusted": true,
        "id": "e5oRDdGywHlT"
      },
      "execution_count": null,
      "outputs": []
    },
    {
      "cell_type": "code",
      "source": [
        "from tensorflow.keras.models import Sequential\n",
        "from tensorflow.keras.layers import Conv3D,Conv2D,MaxPooling2D,Input,Dense,Flatten,Dropout,Activation,BatchNormalization,GlobalAveragePooling2D\n",
        "from tensorflow.keras.layers import PReLU\n",
        "from tensorflow.keras.optimizers import Adam, Adagrad, RMSprop\n",
        "from tensorflow.keras.callbacks import EarlyStopping\n",
        "\n",
        "vit_model = vit.vit_l16(\n",
        "         image_size = 224,\n",
        "         activation = 'softmax',\n",
        "         pretrained = True,\n",
        "         include_top = True,\n",
        "         pretrained_top = False,\n",
        "        classes =8)"
      ],
      "metadata": {
        "execution": {
          "iopub.status.busy": "2022-12-20T06:39:50.252588Z",
          "iopub.execute_input": "2022-12-20T06:39:50.252899Z",
          "iopub.status.idle": "2022-12-20T06:42:21.421073Z",
          "shell.execute_reply.started": "2022-12-20T06:39:50.252871Z",
          "shell.execute_reply": "2022-12-20T06:42:21.420074Z"
        },
        "trusted": true,
        "id": "QFGe9WwMwHlU"
      },
      "execution_count": null,
      "outputs": []
    },
    {
      "cell_type": "code",
      "source": [
        "def createmodel():\n",
        "    model = Sequential()\n",
        "    model.add(vit_model) #loads above imported pretrained model\n",
        "    # # here we added new layers\n",
        "    model.add(BatchNormalization())\n",
        "    model.add(Dense(512, activation='gelu',kernel_initializer='lecun_normal'))\n",
        "    model.add(BatchNormalization())\n",
        "    model.add(Dense(8, activation='softmax', name ='output'))\n",
        "  \n",
        "    opt = Adam(lr= 1e-3/1000, decay= 1e-3 /1000)\n",
        "    model.compile(loss=\"categorical_crossentropy\", optimizer=opt, metrics=[\"accuracy\"])\n",
        "    return model"
      ],
      "metadata": {
        "execution": {
          "iopub.status.busy": "2022-12-20T06:42:21.42256Z",
          "iopub.execute_input": "2022-12-20T06:42:21.42295Z",
          "iopub.status.idle": "2022-12-20T06:42:21.432423Z",
          "shell.execute_reply.started": "2022-12-20T06:42:21.422912Z",
          "shell.execute_reply": "2022-12-20T06:42:21.428933Z"
        },
        "trusted": true,
        "id": "TpmXMhxIwHlV"
      },
      "execution_count": null,
      "outputs": []
    },
    {
      "cell_type": "code",
      "source": [
        "model=createmodel()\n",
        "model.summary()"
      ],
      "metadata": {
        "execution": {
          "iopub.status.busy": "2022-12-20T06:42:21.433864Z",
          "iopub.execute_input": "2022-12-20T06:42:21.434316Z",
          "iopub.status.idle": "2022-12-20T06:42:24.57265Z",
          "shell.execute_reply.started": "2022-12-20T06:42:21.434277Z",
          "shell.execute_reply": "2022-12-20T06:42:24.571711Z"
        },
        "trusted": true,
        "id": "tUCZZ0LGwHlV"
      },
      "execution_count": null,
      "outputs": []
    },
    {
      "cell_type": "code",
      "source": [
        "from tensorflow.keras.callbacks import ModelCheckpoint, EarlyStopping, ReduceLROnPlateau\n",
        "my_callbacks = [ReduceLROnPlateau(monitor='val_loss', factor=0.1, patience=5, verbose=1, mode='min',min_delta=1e-4)]"
      ],
      "metadata": {
        "execution": {
          "iopub.status.busy": "2022-12-20T06:42:24.574141Z",
          "iopub.execute_input": "2022-12-20T06:42:24.574986Z",
          "iopub.status.idle": "2022-12-20T06:42:24.581073Z",
          "shell.execute_reply.started": "2022-12-20T06:42:24.574948Z",
          "shell.execute_reply": "2022-12-20T06:42:24.580011Z"
        },
        "trusted": true,
        "id": "HTBC9NCAwHlV"
      },
      "execution_count": null,
      "outputs": []
    },
    {
      "cell_type": "code",
      "source": [
        "history=model.fit (\n",
        "        train_generator,\n",
        "        epochs=1,\n",
        "        validation_data=valid_generator,\n",
        "        validation_steps=20\n",
        "        )"
      ],
      "metadata": {
        "execution": {
          "iopub.status.busy": "2022-12-20T06:42:24.582998Z",
          "iopub.execute_input": "2022-12-20T06:42:24.583421Z",
          "iopub.status.idle": "2022-12-20T06:52:17.956529Z",
          "shell.execute_reply.started": "2022-12-20T06:42:24.583386Z",
          "shell.execute_reply": "2022-12-20T06:52:17.955437Z"
        },
        "trusted": true,
        "id": "SRrgQWwqwHlW"
      },
      "execution_count": null,
      "outputs": []
    },
    {
      "cell_type": "code",
      "source": [
        "model.save('ksavir0.hdf5')"
      ],
      "metadata": {
        "execution": {
          "iopub.status.busy": "2022-12-20T06:52:17.958399Z",
          "iopub.execute_input": "2022-12-20T06:52:17.958888Z",
          "iopub.status.idle": "2022-12-20T06:52:31.784727Z",
          "shell.execute_reply.started": "2022-12-20T06:52:17.958851Z",
          "shell.execute_reply": "2022-12-20T06:52:31.78367Z"
        },
        "trusted": true,
        "id": "Ct2zVHjmwHlW"
      },
      "execution_count": null,
      "outputs": []
    },
    {
      "cell_type": "code",
      "source": [
        "import tensorflow as tf\n",
        "\n",
        "model = tf.keras.models.load_model('/ksavir0.hdf5')\n",
        "\n",
        "prediction=model.predict(test_generator,verbose=1)\n",
        "print(prediction)"
      ],
      "metadata": {
        "execution": {
          "iopub.status.busy": "2023-01-04T08:42:59.295344Z",
          "iopub.execute_input": "2023-01-04T08:42:59.295730Z",
          "iopub.status.idle": "2023-01-04T08:44:00.675453Z",
          "shell.execute_reply.started": "2023-01-04T08:42:59.295695Z",
          "shell.execute_reply": "2023-01-04T08:44:00.673929Z"
        },
        "trusted": true,
        "id": "cR9EHiECwHlX"
      },
      "execution_count": null,
      "outputs": []
    },
    {
      "cell_type": "code",
      "source": [
        "yp=np.argmax(prediction,axis=1)"
      ],
      "metadata": {
        "execution": {
          "iopub.status.busy": "2022-12-20T14:44:30.877386Z",
          "iopub.execute_input": "2022-12-20T14:44:30.878086Z",
          "iopub.status.idle": "2022-12-20T14:44:30.886614Z",
          "shell.execute_reply.started": "2022-12-20T14:44:30.878049Z",
          "shell.execute_reply": "2022-12-20T14:44:30.885609Z"
        },
        "trusted": true,
        "id": "q_598c2kwHlX"
      },
      "execution_count": null,
      "outputs": []
    },
    {
      "cell_type": "code",
      "source": [
        "from sklearn.metrics import classification_report, confusion_matrix,matthews_corrcoef\n",
        "print('Classification Report')\n",
        "\n",
        "print(classification_report(test_generator.classes, yp, target_names=directory,digits=4))\n",
        "print(matthews_corrcoef(test_generator.classes,yp))"
      ],
      "metadata": {
        "execution": {
          "iopub.status.busy": "2022-12-20T14:44:31.843530Z",
          "iopub.execute_input": "2022-12-20T14:44:31.844593Z",
          "iopub.status.idle": "2022-12-20T14:44:31.861069Z",
          "shell.execute_reply.started": "2022-12-20T14:44:31.844556Z",
          "shell.execute_reply": "2022-12-20T14:44:31.859752Z"
        },
        "trusted": true,
        "id": "hlKMGoyswHlX"
      },
      "execution_count": null,
      "outputs": []
    },
    {
      "cell_type": "code",
      "source": [
        "acc = history.history['accuracy']\n",
        "val_acc = history.history['val_accuracy']\n",
        "\n",
        "loss = history.history['loss']\n",
        "val_loss = history.history['val_loss']\n",
        "\n",
        "plt.figure(figsize=(8, 8))\n",
        "plt.subplot(2, 1, 1)\n",
        "plt.plot(acc, label='Training Accuracy')\n",
        "plt.plot(val_acc, label='Validation Accuracy')\n",
        "plt.legend(loc='lower right')\n",
        "plt.ylabel('Accuracy')\n",
        "plt.ylim([min(plt.ylim()),1])\n",
        "plt.title('Training and Validation Accuracy')\n",
        "\n",
        "plt.subplot(2, 1, 2)\n",
        "plt.plot(loss, label='Training Loss')\n",
        "plt.plot(val_loss, label='Validation Loss')\n",
        "plt.legend(loc='upper right')\n",
        "plt.ylabel('Cross Entropy')\n",
        "plt.ylim([0,1.0])\n",
        "plt.title('Training and Validation Loss')\n",
        "plt.xlabel('epoch')\n",
        "plt.show()"
      ],
      "metadata": {
        "execution": {
          "iopub.status.busy": "2022-12-20T14:45:03.879256Z",
          "iopub.execute_input": "2022-12-20T14:45:03.879640Z",
          "iopub.status.idle": "2022-12-20T14:45:04.182333Z",
          "shell.execute_reply.started": "2022-12-20T14:45:03.879607Z",
          "shell.execute_reply": "2022-12-20T14:45:04.181149Z"
        },
        "trusted": true,
        "id": "WK9EJFwQwHlZ"
      },
      "execution_count": null,
      "outputs": []
    }
  ]
}