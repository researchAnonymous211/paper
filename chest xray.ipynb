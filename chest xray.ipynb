{
 "cells": [
  {
   "cell_type": "code",
   "execution_count": 1,
   "id": "846e5a6b",
   "metadata": {},
   "outputs": [],
   "source": [
    "\n",
    "\n",
    "import numpy as np\n",
    "import matplotlib.pyplot as plt\n",
    "import tensorflow as tf\n",
    "from tensorflow import keras\n",
    "from tensorflow.keras.callbacks import ModelCheckpoint\n",
    "from skimage.color import gray2rgb,rgb2gray,label2rgb\n",
    "import cv2 as cv\n",
    "import pandas as pd\n",
    "import os\n",
    "from tqdm import tqdm\n",
    "import random\n",
    "import pickle\n",
    "from tensorflow.keras.models import Sequential , Model\n",
    "from tensorflow.keras.layers import Activation, Dropout, Flatten, Dense, Conv2D, MaxPooling2D\n",
    "from tensorflow.keras.applications import EfficientNetB0, DenseNet201,VGG16,VGG19,ResNet50,ResNet152V2,MobileNetV2,InceptionResNetV2\n",
    "\n",
    "from sklearn.model_selection import train_test_split\n",
    "\n",
    "\n",
    "SEED = 42\n",
    "\n"
   ]
  },
  {
   "cell_type": "code",
   "execution_count": null,
   "id": "274c853a",
   "metadata": {},
   "outputs": [],
   "source": [
    "\n",
    "\n",
    "TRAIN_PATH ='../input/chest-xray-pneumoniacovid19tuberculosis/train'\n",
    "VAL_PATH = \"../input/chest-xray-pneumoniacovid19tuberculosis/val\"\n",
    "TEST_PATH = \"../input/chest-xray-pneumoniacovid19tuberculosis/test\"\n",
    "\n"
   ]
  },
  {
   "cell_type": "code",
   "execution_count": null,
   "id": "9785d6ff",
   "metadata": {},
   "outputs": [],
   "source": [
    "print(f\"Covid-19 X-Rays From Validation Set: {len(os.listdir(VAL_PATH + '/COVID19'))} \")\n",
    "print(f\"Normal X-Rays From Validation Set: {len(os.listdir(VAL_PATH + '/NORMAL'))} \")\n",
    "print(f\"Pneumonia X-Rays From Validation Set: {len(os.listdir(VAL_PATH + '/PNEUMONIA'))} \")\n",
    "print(f\"Tuberculosis X-Rays From Validation Set: {len(os.listdir(VAL_PATH + '/TURBERCULOSIS'))} \")\n",
    "\n"
   ]
  },
  {
   "cell_type": "code",
   "execution_count": null,
   "id": "2332e8ec",
   "metadata": {},
   "outputs": [],
   "source": [
    "train_covid19 = pd.DataFrame({\"path\": os.listdir(TRAIN_PATH + \"/COVID19\"), \"label\": \"COVID19\"})\n",
    "train_covid19[\"path\"] = train_covid19[\"path\"].apply(lambda x: TRAIN_PATH + \"/COVID19/\" + x)\n",
    "\n",
    "\n",
    "\n",
    "train_normal = pd.DataFrame({\"path\": os.listdir(TRAIN_PATH + \"/NORMAL\"), \"label\": \"NORMAL\"})\n",
    "train_normal[\"path\"] = train_normal[\"path\"].apply(lambda x: TRAIN_PATH + \"/NORMAL/\" + x)\n",
    "\n",
    "train_pneumonia = pd.DataFrame({\"path\": os.listdir(TRAIN_PATH + \"/PNEUMONIA\"), \"label\": \"PNEUMONIA\"})\n",
    "train_pneumonia[\"path\"] = train_pneumonia[\"path\"].apply(lambda x: TRAIN_PATH + \"/PNEUMONIA/\" + x)\n",
    "train_tuberculosis = pd.DataFrame({\"path\": os.listdir(TRAIN_PATH + \"/TURBERCULOSIS\"), \"label\": \"TURBERCULOSIS\"})\n",
    "train_tuberculosis[\"path\"] = train_tuberculosis[\"path\"].apply(lambda x: TRAIN_PATH + \"/TURBERCULOSIS/\" + x)\n",
    "\n",
    "train_df = pd.concat([train_covid19 ,train_normal, train_pneumonia,train_tuberculosis ])\n",
    "\n",
    "val_covid19 = pd.DataFrame({\"path\": os.listdir(VAL_PATH + \"/COVID19\"), \"label\": \"COVID19\"})\n",
    "val_covid19[\"path\"] = val_covid19[\"path\"].apply(lambda x: VAL_PATH + \"/COVID19/\" + x)\n",
    "val_normal = pd.DataFrame({\"path\": os.listdir(VAL_PATH + \"/NORMAL\"), \"label\": \"NORMAL\"})\n",
    "val_normal[\"path\"] = val_normal[\"path\"].apply(lambda x: VAL_PATH + \"/NORMAL/\" + x)\n",
    "val_pneumonia = pd.DataFrame({\"path\": os.listdir(VAL_PATH + \"/PNEUMONIA\"), \"label\": \"PNEUMONIA\"})\n",
    "val_pneumonia[\"path\"] = val_pneumonia[\"path\"].apply(lambda x: VAL_PATH + \"/PNEUMONIA/\" + x)\n",
    "val_tuberculosis = pd.DataFrame({\"path\": os.listdir(VAL_PATH + \"/TURBERCULOSIS\"), \"label\": \"TURBERCULOSIS\"})\n",
    "val_tuberculosis[\"path\"] = val_tuberculosis[\"path\"].apply(lambda x: VAL_PATH + \"/TURBERCULOSIS/\" + x)\n",
    "\n",
    "val_df = pd.concat([val_covid19, val_normal, val_pneumonia,val_tuberculosis])"
   ]
  },
  {
   "cell_type": "code",
   "execution_count": null,
   "id": "294fa96d",
   "metadata": {},
   "outputs": [],
   "source": [
    "\n",
    "\n",
    "test_covid19 = pd.DataFrame({\"path\": os.listdir(TEST_PATH + \"/COVID19\"), \"label\": \"COVID19\"})\n",
    "test_covid19[\"path\"] = test_covid19[\"path\"].apply(lambda x: TEST_PATH + \"/COVID19/\" + x)\n",
    "\n",
    "test_normal = pd.DataFrame({\"path\": os.listdir(TEST_PATH + \"/NORMAL\"), \"label\": \"NORMAL\"})\n",
    "test_normal[\"path\"] = test_normal[\"path\"].apply(lambda x: TEST_PATH + \"/NORMAL/\" + x)\n",
    "\n",
    "\n",
    "test_pneumonia = pd.DataFrame({\"path\": os.listdir(TEST_PATH + \"/PNEUMONIA\"), \"label\": \"PNEUMONIA\"})\n",
    "test_pneumonia[\"path\"] = test_pneumonia[\"path\"].apply(lambda x: TEST_PATH + \"/PNEUMONIA/\" + x)\n",
    "\n",
    "\n",
    "test_tuberculosis = pd.DataFrame({\"path\": os.listdir(TEST_PATH + \"/TURBERCULOSIS\"), \"label\": \"TURBERCULOSIS\"})\n",
    "test_tuberculosis[\"path\"] = test_tuberculosis[\"path\"].apply(lambda x: TEST_PATH + \"/TURBERCULOSIS/\" + x)\n",
    "\n",
    "test_df = pd.concat([test_covid19, test_normal, test_pneumonia, test_tuberculosis])\n",
    "\n"
   ]
  },
  {
   "cell_type": "code",
   "execution_count": null,
   "id": "4ed40146",
   "metadata": {},
   "outputs": [],
   "source": [
    "\n",
    "\n",
    "train_data, val_data = train_test_split(train_df, \n",
    "                                        test_size = 0.1, \n",
    "                                        random_state = SEED, \n",
    "                                        stratify = train_df[\"label\"], \n",
    "                                        shuffle = True)\n",
    "\n",
    "val_data = pd.concat([val_df, val_data])\n",
    "\n",
    "print(f\"Training set size after re-splitting training data: {len(train_data)}\")\n",
    "print(f\"Validation set size after re-splitting training data: {len(val_data)}\")\n",
    "\n"
   ]
  },
  {
   "cell_type": "code",
   "execution_count": null,
   "id": "1a41c0e9",
   "metadata": {},
   "outputs": [],
   "source": [
    "import seaborn as sns\n",
    "fig, ax = plt.subplots(figsize = (6, 6), facecolor = \"#e5e5e5\")\n",
    "ax.set_facecolor(\"#e5e5e5\")\n",
    "\n",
    "sns.countplot(data = train_data, x = \"label\", ax = ax, color = \"#101820\")\n",
    "\n",
    "ax.set_title(\"Countplot for Train Labels\")\n",
    "\n",
    "sns.despine()\n",
    "plt.show()"
   ]
  },
  {
   "cell_type": "code",
   "execution_count": null,
   "id": "20fa53ca",
   "metadata": {},
   "outputs": [],
   "source": [
    "from tensorflow.keras.preprocessing.image import  ImageDataGenerator\n",
    "from tensorflow.keras.applications.densenet import DenseNet121,DenseNet169,DenseNet201, preprocess_input\n",
    "train_datagen = ImageDataGenerator(\n",
    "    brightness_range = (0.2, 1), \n",
    "    zoom_range = 0.2,\n",
    "    width_shift_range = 0.1,\n",
    "    height_shift_range = 0.1,\n",
    "    horizontal_flip = True,\n",
    "    preprocessing_function = preprocess_input\n",
    ")\n",
    "\n",
    "val_datagen = ImageDataGenerator(\n",
    "    preprocessing_function = preprocess_input\n",
    ")\n",
    "\n",
    "test_datagen = ImageDataGenerator(\n",
    "    preprocessing_function = preprocess_input\n",
    ")\n",
    "\n"
   ]
  },
  {
   "cell_type": "code",
   "execution_count": null,
   "id": "56544890",
   "metadata": {},
   "outputs": [],
   "source": [
    "BATCH_SIZE = 16\n",
    "train_generator = train_datagen.flow_from_dataframe(\n",
    "    dataframe = train_data,\n",
    "    x_col = \"path\",\n",
    "    y_col = \"label\",\n",
    "    target_size = (224, 224),\n",
    "    class_mode = \"categorical\",\n",
    "    batch_size = BATCH_SIZE,\n",
    "    shuffle = True,\n",
    "    seed = SEED\n",
    ")"
   ]
  },
  {
   "cell_type": "code",
   "execution_count": null,
   "id": "9795944d",
   "metadata": {},
   "outputs": [],
   "source": [
    "test_generator = test_datagen.flow_from_dataframe(\n",
    "    dataframe = test_df,\n",
    "    x_col = \"path\",\n",
    "    y_col = \"label\",\n",
    "    target_size = (224, 224),\n",
    "    class_mode = \"categorical\",\n",
    "    batch_size = 1,\n",
    "    shuffle = False,\n",
    "    seed = SEED\n",
    ")"
   ]
  },
  {
   "cell_type": "code",
   "execution_count": null,
   "id": "d79cd9b4",
   "metadata": {},
   "outputs": [],
   "source": [
    "val_generator = val_datagen.flow_from_dataframe(\n",
    "    dataframe = val_data,\n",
    "    x_col = \"path\",\n",
    "    y_col = \"label\",\n",
    "    target_size = (224, 224),\n",
    "    class_mode = \"categorical\",\n",
    "    batch_size = BATCH_SIZE,\n",
    "    shuffle = False,\n",
    "    seed = SEED\n",
    ")"
   ]
  },
  {
   "cell_type": "code",
   "execution_count": null,
   "id": "06bd8f9a",
   "metadata": {},
   "outputs": [],
   "source": [
    "from vit_keras import vit, utils\n",
    "\n",
    "image_size = 224\n",
    "base_model = vit.vit_l16(\n",
    "    image_size=image_size,\n",
    "    activation='sigmoid',\n",
    "    pretrained=True,\n",
    "    include_top=True,\n",
    "    pretrained_top=True,\n",
    "     classes =8\n",
    "    \n",
    ")\n",
    "\n"
   ]
  },
  {
   "cell_type": "code",
   "execution_count": null,
   "id": "e7fd96db",
   "metadata": {},
   "outputs": [],
   "source": [
    "\n",
    "\n",
    "from tensorflow.keras.backend import categorical_crossentropy\n",
    "from tensorflow.keras.layers import Input, Dense, Dropout, BatchNormalization, Flatten, Activation, GlobalAveragePooling2D,Conv2D, MaxPooling2D\n",
    "def createmodel():\n",
    "    model = Sequential()\n",
    "    model.add(base_model) \n",
    "    model.add(BatchNormalization()),\n",
    "    model.add(Dense(512,  kernel_initializer='lecun_normal',activation='gelu'))\n",
    "    model.add(BatchNormalization()),\n",
    "    model.add(Dense(4, activation='softmax', name ='output'))\n",
    "  \n",
    "\n",
    "    opt = tf.keras.optimizers.Adam(learning_rate=0.00001,beta_1=0.9,beta_2=0.999,epsilon=1e-07,amsgrad=False,name=\"Adam\")\n",
    "\n",
    "  \n",
    "    loss = tf.keras.losses.CategoricalCrossentropy(label_smoothing = 0.2)\n",
    "\n",
    "    model.compile(loss=loss, optimizer=opt, metrics=[\"accuracy\"])\n",
    "    return model\n",
    "\n"
   ]
  },
  {
   "cell_type": "code",
   "execution_count": null,
   "id": "c871c212",
   "metadata": {},
   "outputs": [],
   "source": [
    "\n",
    "\n",
    "model = createmodel()\n",
    "\n"
   ]
  },
  {
   "cell_type": "code",
   "execution_count": null,
   "id": "9f18ba24",
   "metadata": {},
   "outputs": [],
   "source": [
    "\n",
    "\n",
    "model.summary()\n",
    "\n"
   ]
  },
  {
   "cell_type": "code",
   "execution_count": null,
   "id": "50a40f5c",
   "metadata": {},
   "outputs": [],
   "source": [
    "from tensorflow.keras.callbacks import ReduceLROnPlateau\n",
    "reduce_lr = ReduceLROnPlateau(\n",
    "    monitor = \"val_accuracy\", \n",
    "    patience = 2,\n",
    "    verbose = 1, \n",
    "    factor = 0.3, \n",
    "    min_lr = 0.000000001,\n",
    "    cooldown = 1\n",
    ")\n",
    "\n",
    "history = model.fit(\n",
    "    train_generator,\n",
    "    epochs = 60, \n",
    "    batch_size = BATCH_SIZE,\n",
    "    validation_data = val_generator,\n",
    "    validation_steps = val_data.shape[0] // BATCH_SIZE,\n",
    "    steps_per_epoch = train_data.shape[0] // BATCH_SIZE,\n",
    "    callbacks = [reduce_lr]\n",
    "\n",
    "    \n",
    ")"
   ]
  },
  {
   "cell_type": "code",
   "execution_count": null,
   "id": "956fa629",
   "metadata": {},
   "outputs": [],
   "source": [
    "\n",
    "\n",
    "model.save('vit_l16.h5')\n",
    "\n"
   ]
  },
  {
   "cell_type": "code",
   "execution_count": null,
   "id": "fd80843a",
   "metadata": {},
   "outputs": [],
   "source": [
    "\n",
    "\n",
    "num_label = {'COVID19': 0, 'NORMAL' : 1 , \"PNEUMONIA\":2, \"TURBERCULOSIS\":3}\n",
    "Y_test = test_df['label'].copy().map(num_label).astype('int')\n",
    "\n"
   ]
  },
  {
   "cell_type": "code",
   "execution_count": null,
   "id": "223d83bb",
   "metadata": {},
   "outputs": [],
   "source": [
    "\n",
    "\n",
    "import tensorflow as tf\n",
    "\n",
    "model = tf.keras.models.load_model('/kaggle/input/modelhghgh/vit_l16.h5')\n",
    "\n",
    "prediction=model.predict(test_generator,verbose=1)\n",
    "print(prediction)\n",
    "\n"
   ]
  },
  {
   "cell_type": "code",
   "execution_count": null,
   "id": "359407e4",
   "metadata": {},
   "outputs": [],
   "source": [
    "\n",
    "\n",
    "yp=np.argmax(prediction,axis=1)\n",
    "\n"
   ]
  },
  {
   "cell_type": "code",
   "execution_count": null,
   "id": "627f0eea",
   "metadata": {},
   "outputs": [],
   "source": [
    "from sklearn.metrics import classification_report,matthews_corrcoef\n",
    "\n",
    "print(classification_report(Y_test, yp,digits = 4))\n",
    "print(matthews_corrcoef(Y_test,yp))"
   ]
  },
  {
   "cell_type": "code",
   "execution_count": null,
   "id": "f339093e",
   "metadata": {},
   "outputs": [],
   "source": []
  },
  {
   "cell_type": "code",
   "execution_count": null,
   "id": "e1882fc5",
   "metadata": {},
   "outputs": [],
   "source": []
  },
  {
   "cell_type": "code",
   "execution_count": null,
   "id": "eb817b4f",
   "metadata": {},
   "outputs": [],
   "source": []
  },
  {
   "cell_type": "code",
   "execution_count": null,
   "id": "b385695f",
   "metadata": {},
   "outputs": [],
   "source": []
  }
 ],
 "metadata": {
  "kernelspec": {
   "display_name": "Python 3",
   "language": "python",
   "name": "python3"
  },
  "language_info": {
   "codemirror_mode": {
    "name": "ipython",
    "version": 3
   },
   "file_extension": ".py",
   "mimetype": "text/x-python",
   "name": "python",
   "nbconvert_exporter": "python",
   "pygments_lexer": "ipython3",
   "version": "3.8.8"
  }
 },
 "nbformat": 4,
 "nbformat_minor": 5
}
